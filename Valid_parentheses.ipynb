{
  "nbformat": 4,
  "nbformat_minor": 0,
  "metadata": {
    "colab": {
      "name": "Valid_parentheses.ipynb",
      "provenance": [],
      "authorship_tag": "ABX9TyNpN1f2H/gFcSp+Jlf/U876",
      "include_colab_link": true
    },
    "kernelspec": {
      "name": "python3",
      "display_name": "Python 3"
    }
  },
  "cells": [
    {
      "cell_type": "markdown",
      "metadata": {
        "id": "view-in-github",
        "colab_type": "text"
      },
      "source": [
        "<a href=\"https://colab.research.google.com/github/Welwi/LeetCode_Practice/blob/master/Valid_parentheses.ipynb\" target=\"_parent\"><img src=\"https://colab.research.google.com/assets/colab-badge.svg\" alt=\"Open In Colab\"/></a>"
      ]
    },
    {
      "cell_type": "markdown",
      "metadata": {
        "id": "unqf7ugBDABU"
      },
      "source": [
        "Given a string s containing just the characters '(', ')', '{', '}', '[' and ']', determine if the input string is valid.\n",
        "\n",
        "An input string is valid if:\n",
        "\n",
        "Open brackets must be closed by the same type of brackets.\n",
        "Open brackets must be closed in the correct order."
      ]
    },
    {
      "cell_type": "code",
      "metadata": {
        "id": "1aUppyf1C0pO"
      },
      "source": [
        "class Solution:\n",
        "    def isValid(self, s: str) -> bool:\n",
        "        \n",
        "\n",
        "        opposite_dict = {'(' : ')', '{' : '}', '[' : ']'}\n",
        "        \n",
        "        len_s = (len(s)//2)\n",
        "        \n",
        "        ans = False\n",
        "        for i in range(1, len_s + 1):\n",
        "            if i%2 != 0:\n",
        "                j = i\n",
        "            else:\n",
        "                j = i+1\n",
        "            if s[-i] == opposite_dict[s[i-1]] or s[j] == opposite_dict[s[i-1]]:\n",
        "                ans = True\n",
        "            else:\n",
        "                ans = False\n",
        "        return ans"
      ],
      "execution_count": null,
      "outputs": []
    }
  ]
}