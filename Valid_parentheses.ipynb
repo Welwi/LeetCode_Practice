{
  "nbformat": 4,
  "nbformat_minor": 0,
  "metadata": {
    "colab": {
      "name": "Valid_parentheses.ipynb",
      "provenance": [],
      "authorship_tag": "ABX9TyNcgn4uXJ8LKvNx9+j5yKG1",
      "include_colab_link": true
    },
    "kernelspec": {
      "name": "python3",
      "display_name": "Python 3"
    }
  },
  "cells": [
    {
      "cell_type": "markdown",
      "metadata": {
        "id": "view-in-github",
        "colab_type": "text"
      },
      "source": [
        "<a href=\"https://colab.research.google.com/github/Welwi/LeetCode_Practice/blob/master/Valid_parentheses.ipynb\" target=\"_parent\"><img src=\"https://colab.research.google.com/assets/colab-badge.svg\" alt=\"Open In Colab\"/></a>"
      ]
    },
    {
      "cell_type": "markdown",
      "metadata": {
        "id": "unqf7ugBDABU"
      },
      "source": [
        "Given a string s containing just the characters '(', ')', '{', '}', '[' and ']', determine if the input string is valid.\n",
        "\n",
        "An input string is valid if:\n",
        "\n",
        "Open brackets must be closed by the same type of brackets.\n",
        "Open brackets must be closed in the correct order."
      ]
    },
    {
      "cell_type": "code",
      "metadata": {
        "id": "1aUppyf1C0pO"
      },
      "source": [
        "class Solution:\n",
        "    def isValid(self, s: str) -> bool:\n",
        "        \n",
        "\n",
        "        opposite_dict = {'(' : ')', '{' : '}', '[' : ']'}\n",
        "        \n",
        "        len_s = (len(s)//2)\n",
        "        \n",
        "        for i in range(len_s):\n",
        "            rev = -(i+1)\n",
        "            if s[rev] == opposite_dict[s[i]] or :\n",
        "                return True\n",
        "            else:\n",
        "                return False"
      ],
      "execution_count": null,
      "outputs": []
    }
  ]
}