{
  "nbformat": 4,
  "nbformat_minor": 0,
  "metadata": {
    "colab": {
      "name": "count_primes.ipynb",
      "provenance": [],
      "authorship_tag": "ABX9TyPq8TO1AGElCD7sR7fb/MUV",
      "include_colab_link": true
    },
    "kernelspec": {
      "name": "python3",
      "display_name": "Python 3"
    }
  },
  "cells": [
    {
      "cell_type": "markdown",
      "metadata": {
        "id": "view-in-github",
        "colab_type": "text"
      },
      "source": [
        "<a href=\"https://colab.research.google.com/github/Welwi/LeetCode_Practice/blob/master/count_primes.ipynb\" target=\"_parent\"><img src=\"https://colab.research.google.com/assets/colab-badge.svg\" alt=\"Open In Colab\"/></a>"
      ]
    },
    {
      "cell_type": "markdown",
      "metadata": {
        "id": "hZJ6p9Ce6qv6"
      },
      "source": [
        "Count the number of prime numbers less than a non-negative number, n.\n"
      ]
    },
    {
      "cell_type": "code",
      "metadata": {
        "id": "ZQD_cUCR6lkf"
      },
      "source": [
        "class Solution:\n",
        "    def countPrimes(self, n: int) -> int:\n",
        "        \n",
        "        count = 0\n",
        "        if n <= 1:\n",
        "            return 0  \n",
        "        for i in range(2, n):\n",
        "            if self.isPrime(i) == True:\n",
        "                count +=1\n",
        "        return count\n",
        "        \n",
        "        \n",
        "    def isPrime(self, number):    \n",
        "        for i in range(2, number):\n",
        "            if number % i == 0:\n",
        "                return False\n",
        "        return True"
      ],
      "execution_count": null,
      "outputs": []
    }
  ]
}