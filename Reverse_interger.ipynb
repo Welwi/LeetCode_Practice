{
  "nbformat": 4,
  "nbformat_minor": 0,
  "metadata": {
    "colab": {
      "name": "Reverse_interger.ipynb",
      "provenance": [],
      "authorship_tag": "ABX9TyPCldhCoNqQFTdudc8aS6/J",
      "include_colab_link": true
    },
    "kernelspec": {
      "name": "python3",
      "display_name": "Python 3"
    }
  },
  "cells": [
    {
      "cell_type": "markdown",
      "metadata": {
        "id": "view-in-github",
        "colab_type": "text"
      },
      "source": [
        "<a href=\"https://colab.research.google.com/github/Welwi/LeetCode_Practice/blob/master/Reverse_interger.ipynb\" target=\"_parent\"><img src=\"https://colab.research.google.com/assets/colab-badge.svg\" alt=\"Open In Colab\"/></a>"
      ]
    },
    {
      "cell_type": "markdown",
      "metadata": {
        "id": "rCklBn7YMtB3",
        "colab_type": "text"
      },
      "source": [
        "Given a 32-bit signed integer, reverse digits of an integer.\n",
        "\n",
        "Note:\n",
        "Assume we are dealing with an environment which could only store integers within the 32-bit signed integer range: [−231,  231 − 1]. For the purpose of this problem, assume that your function returns 0 when the reversed integer overflows."
      ]
    },
    {
      "cell_type": "code",
      "metadata": {
        "id": "u9l7-lZrMk-q",
        "colab_type": "code",
        "colab": {}
      },
      "source": [
        "class Solution:\n",
        "    def reverse(self, x: int) -> int:\n",
        "        \n",
        "        result = 0\n",
        "        while x != 0:\n",
        "            if x > 0:\n",
        "                r = x%10\n",
        "                result = result*10 + r\n",
        "                x = x//10\n",
        "            else:\n",
        "                r = abs(x)%10\n",
        "                result = result*10 - r\n",
        "                x = int(x/10)\n",
        "                \n",
        "        if result < pow(-2, 31) or result > pow(2,31):\n",
        "            return 0\n",
        "        else:\n",
        "            return result\n",
        "        "
      ],
      "execution_count": null,
      "outputs": []
    }
  ]
}