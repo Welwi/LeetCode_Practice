{
  "nbformat": 4,
  "nbformat_minor": 0,
  "metadata": {
    "colab": {
      "name": "Palindrome_Number.ipynb",
      "provenance": [],
      "authorship_tag": "ABX9TyOTgyU6oK7iDvFS/Ai9oUXv",
      "include_colab_link": true
    },
    "kernelspec": {
      "name": "python3",
      "display_name": "Python 3"
    }
  },
  "cells": [
    {
      "cell_type": "markdown",
      "metadata": {
        "id": "view-in-github",
        "colab_type": "text"
      },
      "source": [
        "<a href=\"https://colab.research.google.com/github/Welwi/LeetCode_Practice/blob/master/Palindrome_Number.ipynb\" target=\"_parent\"><img src=\"https://colab.research.google.com/assets/colab-badge.svg\" alt=\"Open In Colab\"/></a>"
      ]
    },
    {
      "cell_type": "markdown",
      "metadata": {
        "id": "gb5adHd6PmJG",
        "colab_type": "text"
      },
      "source": [
        "Determine whether an integer is a palindrome. An integer is a palindrome when it reads the same backward as forward."
      ]
    },
    {
      "cell_type": "code",
      "metadata": {
        "id": "Nk6rJd_gPZ3s",
        "colab_type": "code",
        "colab": {}
      },
      "source": [
        "class Solution:\n",
        "    def isPalindrome(self, x: int) -> bool:\n",
        "           \n",
        "        x_var = x\n",
        "        result = 0\n",
        "        while x_var != 0:\n",
        "            if x_var > 0:\n",
        "                r = x_var%10\n",
        "                result = result*10 + r\n",
        "                x_var = x_var//10\n",
        "            else:\n",
        "                break\n",
        "\n",
        "        if result == x:\n",
        "            return True\n",
        "        else:\n",
        "            return False"
      ],
      "execution_count": null,
      "outputs": []
    }
  ]
}