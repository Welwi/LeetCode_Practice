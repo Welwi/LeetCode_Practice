{
  "nbformat": 4,
  "nbformat_minor": 0,
  "metadata": {
    "colab": {
      "name": "Two_sum.ipynb",
      "provenance": [],
      "authorship_tag": "ABX9TyO2O0sswUSxVSSUCSwQ2XdM",
      "include_colab_link": true
    },
    "kernelspec": {
      "name": "python3",
      "display_name": "Python 3"
    }
  },
  "cells": [
    {
      "cell_type": "markdown",
      "metadata": {
        "id": "view-in-github",
        "colab_type": "text"
      },
      "source": [
        "<a href=\"https://colab.research.google.com/github/Welwi/LeetCode_Practice/blob/master/Two_sum.ipynb\" target=\"_parent\"><img src=\"https://colab.research.google.com/assets/colab-badge.svg\" alt=\"Open In Colab\"/></a>"
      ]
    },
    {
      "cell_type": "code",
      "metadata": {
        "id": "Y9cAVV5w9r-F",
        "colab_type": "code",
        "colab": {}
      },
      "source": [
        "class Solution:\n",
        "    def twoSum(self, nums: list[int], target: int) -> list[int]:\n",
        "        \n",
        "        # return [[i,j] for i in range(len(nums)) for j in range(i+1, len(nums)) if nums[i] + nums[j] == target][0]\n",
        "    \n",
        "        for i in range(len(nums)):\n",
        "            k = i + 1\n",
        "            for j in range(k, len(nums)):\n",
        "                #print('i', nums[i], 'j', nums[j])\n",
        "                if nums[i] + nums[j] == target:\n",
        "                    return ([i,j])"
      ],
      "execution_count": null,
      "outputs": []
    },
    {
      "cell_type": "markdown",
      "metadata": {
        "id": "-m1ULrDf9QOe",
        "colab_type": "text"
      },
      "source": [
        "Feedback\n",
        "\n",
        "The for loop ran faster than the list comprehension and used a lot less memory\n",
        "\n",
        "Runtime: 6020 ms, faster than 8.30% of Python3 online submissions for Two Sum.\n",
        "Memory Usage: 14.8 MB, less than 93.05% of Python3 online submissions for Two Sum."
      ]
    },
    {
      "cell_type": "code",
      "metadata": {
        "id": "2Xf7ITmL9PjN",
        "colab_type": "code",
        "colab": {}
      },
      "source": [
        ""
      ],
      "execution_count": null,
      "outputs": []
    }
  ]
}