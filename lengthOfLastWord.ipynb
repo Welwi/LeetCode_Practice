{
  "nbformat": 4,
  "nbformat_minor": 0,
  "metadata": {
    "colab": {
      "name": "lengthOfLastWord.ipynb",
      "provenance": [],
      "authorship_tag": "ABX9TyNBtVvmB6io4L/6TpX000i9",
      "include_colab_link": true
    },
    "kernelspec": {
      "name": "python3",
      "display_name": "Python 3"
    }
  },
  "cells": [
    {
      "cell_type": "markdown",
      "metadata": {
        "id": "view-in-github",
        "colab_type": "text"
      },
      "source": [
        "<a href=\"https://colab.research.google.com/github/Welwi/LeetCode_Practice/blob/master/lengthOfLastWord.ipynb\" target=\"_parent\"><img src=\"https://colab.research.google.com/assets/colab-badge.svg\" alt=\"Open In Colab\"/></a>"
      ]
    },
    {
      "cell_type": "markdown",
      "metadata": {
        "id": "LRp_u-F_JvTQ"
      },
      "source": [
        "Given a string s consists of upper/lower-case alphabets and empty space characters ' ', return the length of last word (last word means the last appearing word if we loop from left to right) in the string.\n",
        "\n",
        "If the last word does not exist, return 0.\n",
        "\n",
        "Note: A word is defined as a maximal substring consisting of non-space characters only."
      ]
    },
    {
      "cell_type": "code",
      "metadata": {
        "id": "vTQWeniiJk2u"
      },
      "source": [
        "class Solution:\n",
        "    def lengthOfLastWord(self, s: str) -> int:\n",
        "        \n",
        "        lst = s.split()\n",
        "        if len(lst) == 0:\n",
        "            return len(lst)\n",
        "        return len(lst[-1])"
      ],
      "execution_count": null,
      "outputs": []
    }
  ]
}