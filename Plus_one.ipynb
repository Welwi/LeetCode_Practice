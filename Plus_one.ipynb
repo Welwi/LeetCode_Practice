{
  "nbformat": 4,
  "nbformat_minor": 0,
  "metadata": {
    "colab": {
      "name": "Plus_one.ipynb",
      "provenance": [],
      "authorship_tag": "ABX9TyOTkvl+EsfEguc0jx+jZgIz",
      "include_colab_link": true
    },
    "kernelspec": {
      "name": "python3",
      "display_name": "Python 3"
    }
  },
  "cells": [
    {
      "cell_type": "markdown",
      "metadata": {
        "id": "view-in-github",
        "colab_type": "text"
      },
      "source": [
        "<a href=\"https://colab.research.google.com/github/Welwi/LeetCode_Practice/blob/master/Plus_one.ipynb\" target=\"_parent\"><img src=\"https://colab.research.google.com/assets/colab-badge.svg\" alt=\"Open In Colab\"/></a>"
      ]
    },
    {
      "cell_type": "markdown",
      "metadata": {
        "id": "LHAPhPMaUaiI"
      },
      "source": [
        "Given a non-empty array of digits representing a non-negative integer, increment one to the integer.\n",
        "\n",
        "The digits are stored such that the most significant digit is at the head of the list, and each element in the array contains a single digit.\n",
        "\n",
        "You may assume the integer does not contain any leading zero, except the number 0 itself."
      ]
    },
    {
      "cell_type": "code",
      "metadata": {
        "id": "GdKNTFgiUJ6d"
      },
      "source": [
        "class Solution:\n",
        "    def plusOne(self, digits: List[int]) -> List[int]:\n",
        "        \n",
        "        num_str = ''.join(map(str, digits))\n",
        "        plus_one = str(int(num_str) + 1)\n",
        "        \n",
        "        lst = [int(word) for word in plus_one]\n",
        "        \n",
        "        return lst"
      ],
      "execution_count": null,
      "outputs": []
    }
  ]
}