{
  "nbformat": 4,
  "nbformat_minor": 0,
  "metadata": {
    "colab": {
      "name": "RemoveDuplicates.ipynb",
      "provenance": [],
      "authorship_tag": "ABX9TyMlrItSCpuW3h92JjKgq3Fc",
      "include_colab_link": true
    },
    "kernelspec": {
      "name": "python3",
      "display_name": "Python 3"
    }
  },
  "cells": [
    {
      "cell_type": "markdown",
      "metadata": {
        "id": "view-in-github",
        "colab_type": "text"
      },
      "source": [
        "<a href=\"https://colab.research.google.com/github/Welwi/LeetCode_Practice/blob/master/RemoveDuplicates.ipynb\" target=\"_parent\"><img src=\"https://colab.research.google.com/assets/colab-badge.svg\" alt=\"Open In Colab\"/></a>"
      ]
    },
    {
      "cell_type": "markdown",
      "metadata": {
        "id": "iG9dl6GNdMw6"
      },
      "source": [
        "Given a sorted array nums, remove the duplicates in-place such that each element appears only once and returns the new length.\n",
        "\n",
        "Do not allocate extra space for another array, you must do this by modifying the input array in-place with O(1) extra memory."
      ]
    },
    {
      "cell_type": "code",
      "metadata": {
        "id": "hvXUnrt-dEdQ"
      },
      "source": [
        "class Solution:\n",
        "    def removeDuplicates(self, nums: List[int]) -> int:\n",
        "        \n",
        "        if len(nums) < 2:\n",
        "            return len(nums)\n",
        "        else:\n",
        "            previous_num = nums[0]\n",
        "            for num in nums[1:]:\n",
        "                if num == previous_num:\n",
        "                    nums.remove(num)\n",
        "                    previous_num = num\n",
        "                else:\n",
        "                    previous_num = num\n",
        "        return len(nums)"
      ],
      "execution_count": null,
      "outputs": []
    }
  ]
}