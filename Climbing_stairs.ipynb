{
  "nbformat": 4,
  "nbformat_minor": 0,
  "metadata": {
    "colab": {
      "name": "Climbing_stairs.ipynb",
      "provenance": [],
      "authorship_tag": "ABX9TyPoJmjZ1t6UQWQPmshIsMJq",
      "include_colab_link": true
    },
    "kernelspec": {
      "name": "python3",
      "display_name": "Python 3"
    }
  },
  "cells": [
    {
      "cell_type": "markdown",
      "metadata": {
        "id": "view-in-github",
        "colab_type": "text"
      },
      "source": [
        "<a href=\"https://colab.research.google.com/github/Welwi/LeetCode_Practice/blob/master/Climbing_stairs.ipynb\" target=\"_parent\"><img src=\"https://colab.research.google.com/assets/colab-badge.svg\" alt=\"Open In Colab\"/></a>"
      ]
    },
    {
      "cell_type": "markdown",
      "metadata": {
        "id": "TQTDme7as7lh"
      },
      "source": [
        "You are climbing a stair case. It takes n steps to reach to the top.\n",
        "\n",
        "Each time you can either climb 1 or 2 steps. In how many distinct ways can you climb to the top?"
      ]
    },
    {
      "cell_type": "code",
      "metadata": {
        "id": "DEYl6TCCs18L"
      },
      "source": [
        "class Solution:\n",
        "    def climbStairs(self, n: int) -> int:\n",
        "        memo = {}\n",
        "        return self.countStairs(n, memo)\n",
        "        \n",
        "    def countStairs(self, n, memo):\n",
        "\n",
        "        if n == 1 or n == 0:\n",
        "            return 1\n",
        "        \n",
        "        if n not in memo:\n",
        "            memo [n] = self.countStairs(n-1, memo) + self.countStairs(n-2, memo)\n",
        "            \n",
        "        return memo[n]\n",
        "        "
      ],
      "execution_count": null,
      "outputs": []
    }
  ]
}