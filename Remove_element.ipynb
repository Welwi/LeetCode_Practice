{
  "nbformat": 4,
  "nbformat_minor": 0,
  "metadata": {
    "colab": {
      "name": "Remove_element.ipynb",
      "provenance": [],
      "authorship_tag": "ABX9TyM2nWn98yjxVD2J5Ewqi1IH",
      "include_colab_link": true
    },
    "kernelspec": {
      "name": "python3",
      "display_name": "Python 3"
    }
  },
  "cells": [
    {
      "cell_type": "markdown",
      "metadata": {
        "id": "view-in-github",
        "colab_type": "text"
      },
      "source": [
        "<a href=\"https://colab.research.google.com/github/Welwi/LeetCode_Practice/blob/master/Remove_element.ipynb\" target=\"_parent\"><img src=\"https://colab.research.google.com/assets/colab-badge.svg\" alt=\"Open In Colab\"/></a>"
      ]
    },
    {
      "cell_type": "markdown",
      "metadata": {
        "id": "FBh2GIjbMB30"
      },
      "source": [
        "Given an array nums and a value val, remove all instances of that value in-place and return the new length.\n",
        "\n",
        "Do not allocate extra space for another array, you must do this by modifying the input array in-place with O(1) extra memory.\n",
        "\n",
        "The order of elements can be changed. It doesn't matter what you leave beyond the new length."
      ]
    },
    {
      "cell_type": "code",
      "metadata": {
        "id": "S5p0_oVdL9TC"
      },
      "source": [
        "class Solution:\n",
        "    def removeElement(self, nums: List[int], val: int) -> int:\n",
        "        \n",
        "        len_lst = len(nums)\n",
        "        if len_lst == 0:\n",
        "            return 0\n",
        "        for i in range(len_lst):\n",
        "            first_elt = nums.pop(0)\n",
        "            if first_elt != val:\n",
        "                nums.append(first_elt)\n",
        "            \n",
        "            \n",
        "        return len(nums)"
      ],
      "execution_count": null,
      "outputs": []
    }
  ]
}